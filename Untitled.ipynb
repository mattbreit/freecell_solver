{
 "cells": [
  {
   "cell_type": "code",
   "execution_count": 2,
   "metadata": {},
   "outputs": [
    {
     "name": "stdout",
     "output_type": "stream",
     "text": [
      "\n",
      "6C 6H TH 6S JD 9H QH 5H\n",
      "KC 5D AD JC 8S TS 8D 2H\n",
      "4D QD 7H KD 3S 4S 2D JS\n",
      "JH 9C TC 8H 5S AH 6D 2S\n",
      "KH 7C QC AS 7D TD 2C 5C\n",
      "3H 9S 4C 7S KS QS 9D AC\n",
      "3D 3C 8C 4H \n",
      "\n"
     ]
    },
    {
     "data": {
      "text/plain": [
       "[AC>HomeStack,\n",
       " 3C>4H,\n",
       " 8C>9D,\n",
       " 3D>FreeCell,\n",
       " 3C>FreeCell,\n",
       " 8C>FreeCell,\n",
       " 4H>FreeCell,\n",
       " KS>FreeCell,\n",
       " QS>FreeCell,\n",
       " 9D>FreeCell,\n",
       " AC>FreeCell]"
      ]
     },
     "execution_count": 2,
     "metadata": {},
     "output_type": "execute_result"
    }
   ],
   "source": [
    "import freecell_solver as fc\n",
    "from io import StringIO\n",
    "\n",
    "board = fc.load_game(StringIO(fc.test_game))\n",
    "print(fc.test_game)\n",
    "list(fc.sort_moves_by_priority(fc.filter_redundant_moves(board.all_valid_moves())))\n",
    "#dir(fc)"
   ]
  }
 ],
 "metadata": {
  "kernelspec": {
   "display_name": "Python 3",
   "language": "python",
   "name": "python3"
  },
  "language_info": {
   "codemirror_mode": {
    "name": "ipython",
    "version": 3
   },
   "file_extension": ".py",
   "mimetype": "text/x-python",
   "name": "python",
   "nbconvert_exporter": "python",
   "pygments_lexer": "ipython3",
   "version": "3.7.3"
  }
 },
 "nbformat": 4,
 "nbformat_minor": 2
}
